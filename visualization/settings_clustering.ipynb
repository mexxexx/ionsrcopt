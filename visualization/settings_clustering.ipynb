{
 "cells": [
  {
   "cell_type": "code",
   "execution_count": 1,
   "metadata": {},
   "outputs": [],
   "source": [
    "import pandas as pd\n",
    "import numpy as np"
   ]
  },
  {
   "cell_type": "code",
   "execution_count": 4,
   "metadata": {},
   "outputs": [
    {
     "data": {
      "text/html": [
       "<div>\n",
       "<style scoped>\n",
       "    .dataframe tbody tr th:only-of-type {\n",
       "        vertical-align: middle;\n",
       "    }\n",
       "\n",
       "    .dataframe tbody tr th {\n",
       "        vertical-align: top;\n",
       "    }\n",
       "\n",
       "    .dataframe thead tr th {\n",
       "        text-align: left;\n",
       "    }\n",
       "\n",
       "    .dataframe thead tr:last-of-type th {\n",
       "        text-align: right;\n",
       "    }\n",
       "</style>\n",
       "<table border=\"1\" class=\"dataframe\">\n",
       "  <thead>\n",
       "    <tr>\n",
       "      <th></th>\n",
       "      <th colspan=\"2\" halign=\"left\">bias disc</th>\n",
       "      <th colspan=\"2\" halign=\"left\">gas</th>\n",
       "      <th colspan=\"2\" halign=\"left\">oven1</th>\n",
       "      <th colspan=\"2\" halign=\"left\">solinj</th>\n",
       "      <th colspan=\"2\" halign=\"left\">solcen</th>\n",
       "      <th>...</th>\n",
       "      <th colspan=\"2\" halign=\"left\">BCT25</th>\n",
       "      <th colspan=\"2\" halign=\"left\">RF</th>\n",
       "      <th>DENSITY</th>\n",
       "      <th colspan=\"3\" halign=\"left\">DURATION</th>\n",
       "      <th colspan=\"2\" halign=\"left\">REFILL</th>\n",
       "    </tr>\n",
       "    <tr>\n",
       "      <th></th>\n",
       "      <th>median</th>\n",
       "      <th>std%</th>\n",
       "      <th>median</th>\n",
       "      <th>std%</th>\n",
       "      <th>median</th>\n",
       "      <th>std%</th>\n",
       "      <th>median</th>\n",
       "      <th>std%</th>\n",
       "      <th>median</th>\n",
       "      <th>std%</th>\n",
       "      <th>...</th>\n",
       "      <th>median</th>\n",
       "      <th>std%</th>\n",
       "      <th>median</th>\n",
       "      <th>std%</th>\n",
       "      <th>percentage</th>\n",
       "      <th>in_hours</th>\n",
       "      <th>longest_in_hours</th>\n",
       "      <th>num_splits</th>\n",
       "      <th>index</th>\n",
       "      <th>delta_in_hours</th>\n",
       "    </tr>\n",
       "    <tr>\n",
       "      <th>optigrid_cluster</th>\n",
       "      <th></th>\n",
       "      <th></th>\n",
       "      <th></th>\n",
       "      <th></th>\n",
       "      <th></th>\n",
       "      <th></th>\n",
       "      <th></th>\n",
       "      <th></th>\n",
       "      <th></th>\n",
       "      <th></th>\n",
       "      <th></th>\n",
       "      <th></th>\n",
       "      <th></th>\n",
       "      <th></th>\n",
       "      <th></th>\n",
       "      <th></th>\n",
       "      <th></th>\n",
       "      <th></th>\n",
       "      <th></th>\n",
       "      <th></th>\n",
       "      <th></th>\n",
       "    </tr>\n",
       "  </thead>\n",
       "  <tbody>\n",
       "    <tr>\n",
       "      <th>93</th>\n",
       "      <td>-231.0</td>\n",
       "      <td>0.2</td>\n",
       "      <td>9.87</td>\n",
       "      <td>0.006</td>\n",
       "      <td>7.5</td>\n",
       "      <td>3.12</td>\n",
       "      <td>1255.0</td>\n",
       "      <td>0.0</td>\n",
       "      <td>240.0</td>\n",
       "      <td>0.0</td>\n",
       "      <td>...</td>\n",
       "      <td>0.026</td>\n",
       "      <td>9.811</td>\n",
       "      <td>1571.0</td>\n",
       "      <td>0.3</td>\n",
       "      <td>2.5</td>\n",
       "      <td>89.8</td>\n",
       "      <td>89.8</td>\n",
       "      <td>12.0</td>\n",
       "      <td>11.0</td>\n",
       "      <td>150.5</td>\n",
       "    </tr>\n",
       "    <tr>\n",
       "      <th>136</th>\n",
       "      <td>-248.0</td>\n",
       "      <td>0.1</td>\n",
       "      <td>9.88</td>\n",
       "      <td>0.006</td>\n",
       "      <td>5.2</td>\n",
       "      <td>1.92</td>\n",
       "      <td>1240.0</td>\n",
       "      <td>0.1</td>\n",
       "      <td>220.0</td>\n",
       "      <td>0.0</td>\n",
       "      <td>...</td>\n",
       "      <td>0.032</td>\n",
       "      <td>5.801</td>\n",
       "      <td>1935.0</td>\n",
       "      <td>0.7</td>\n",
       "      <td>2.5</td>\n",
       "      <td>88.8</td>\n",
       "      <td>70.6</td>\n",
       "      <td>3.0</td>\n",
       "      <td>16.0</td>\n",
       "      <td>45.4</td>\n",
       "    </tr>\n",
       "    <tr>\n",
       "      <th>173</th>\n",
       "      <td>-276.0</td>\n",
       "      <td>0.4</td>\n",
       "      <td>9.92</td>\n",
       "      <td>0.005</td>\n",
       "      <td>5.9</td>\n",
       "      <td>4.25</td>\n",
       "      <td>1230.0</td>\n",
       "      <td>0.1</td>\n",
       "      <td>230.0</td>\n",
       "      <td>0.0</td>\n",
       "      <td>...</td>\n",
       "      <td>0.030</td>\n",
       "      <td>8.425</td>\n",
       "      <td>1887.0</td>\n",
       "      <td>0.7</td>\n",
       "      <td>2.3</td>\n",
       "      <td>81.7</td>\n",
       "      <td>72.6</td>\n",
       "      <td>6.0</td>\n",
       "      <td>17.0</td>\n",
       "      <td>21.2</td>\n",
       "    </tr>\n",
       "    <tr>\n",
       "      <th>68</th>\n",
       "      <td>-239.0</td>\n",
       "      <td>0.2</td>\n",
       "      <td>9.90</td>\n",
       "      <td>0.005</td>\n",
       "      <td>7.6</td>\n",
       "      <td>2.34</td>\n",
       "      <td>1265.0</td>\n",
       "      <td>0.0</td>\n",
       "      <td>230.0</td>\n",
       "      <td>0.0</td>\n",
       "      <td>...</td>\n",
       "      <td>0.029</td>\n",
       "      <td>5.287</td>\n",
       "      <td>1590.0</td>\n",
       "      <td>2.1</td>\n",
       "      <td>2.2</td>\n",
       "      <td>78.0</td>\n",
       "      <td>76.3</td>\n",
       "      <td>29.0</td>\n",
       "      <td>10.0</td>\n",
       "      <td>20.1</td>\n",
       "    </tr>\n",
       "    <tr>\n",
       "      <th>176</th>\n",
       "      <td>-238.0</td>\n",
       "      <td>2.7</td>\n",
       "      <td>9.91</td>\n",
       "      <td>0.018</td>\n",
       "      <td>18.5</td>\n",
       "      <td>4.88</td>\n",
       "      <td>1190.0</td>\n",
       "      <td>0.1</td>\n",
       "      <td>290.0</td>\n",
       "      <td>0.0</td>\n",
       "      <td>...</td>\n",
       "      <td>0.035</td>\n",
       "      <td>6.415</td>\n",
       "      <td>1010.0</td>\n",
       "      <td>0.3</td>\n",
       "      <td>2.1</td>\n",
       "      <td>73.9</td>\n",
       "      <td>73.9</td>\n",
       "      <td>4.0</td>\n",
       "      <td>18.0</td>\n",
       "      <td>267.7</td>\n",
       "    </tr>\n",
       "  </tbody>\n",
       "</table>\n",
       "<p>5 rows × 24 columns</p>\n",
       "</div>"
      ],
      "text/plain": [
       "                 bias disc         gas         oven1        solinj       \\\n",
       "                    median std% median   std% median  std%  median std%   \n",
       "optigrid_cluster                                                          \n",
       "93                  -231.0  0.2   9.87  0.006    7.5  3.12  1255.0  0.0   \n",
       "136                 -248.0  0.1   9.88  0.006    5.2  1.92  1240.0  0.1   \n",
       "173                 -276.0  0.4   9.92  0.005    5.9  4.25  1230.0  0.1   \n",
       "68                  -239.0  0.2   9.90  0.005    7.6  2.34  1265.0  0.0   \n",
       "176                 -238.0  2.7   9.91  0.018   18.5  4.88  1190.0  0.1   \n",
       "\n",
       "                 solcen       ...  BCT25             RF         DENSITY  \\\n",
       "                 median std%  ... median   std%  median std% percentage   \n",
       "optigrid_cluster              ...                                         \n",
       "93                240.0  0.0  ...  0.026  9.811  1571.0  0.3        2.5   \n",
       "136               220.0  0.0  ...  0.032  5.801  1935.0  0.7        2.5   \n",
       "173               230.0  0.0  ...  0.030  8.425  1887.0  0.7        2.3   \n",
       "68                230.0  0.0  ...  0.029  5.287  1590.0  2.1        2.2   \n",
       "176               290.0  0.0  ...  0.035  6.415  1010.0  0.3        2.1   \n",
       "\n",
       "                 DURATION                             REFILL                 \n",
       "                 in_hours longest_in_hours num_splits  index delta_in_hours  \n",
       "optigrid_cluster                                                             \n",
       "93                   89.8             89.8       12.0   11.0          150.5  \n",
       "136                  88.8             70.6        3.0   16.0           45.4  \n",
       "173                  81.7             72.6        6.0   17.0           21.2  \n",
       "68                   78.0             76.3       29.0   10.0           20.1  \n",
       "176                  73.9             73.9        4.0   18.0          267.7  \n",
       "\n",
       "[5 rows x 24 columns]"
      ]
     },
     "execution_count": 4,
     "metadata": {},
     "output_type": "execute_result"
    }
   ],
   "source": [
    "df = pd.read_csv(\"Results/2018_stable_refills_updated.csv\", index_col=0, header=[0,1])\n",
    "df.head()"
   ]
  },
  {
   "cell_type": "code",
   "execution_count": 20,
   "metadata": {},
   "outputs": [],
   "source": [
    "import sklearn\n",
    "\n",
    "def train(k, X, weights):\n",
    "    model = sklearn.cluster.KMeans(n_clusters=k).fit(X, sample_weight=weights)\n",
    "    return model"
   ]
  },
  {
   "cell_type": "code",
   "execution_count": 21,
   "metadata": {},
   "outputs": [
    {
     "data": {
      "text/plain": [
       "(180, 7)"
      ]
     },
     "execution_count": 21,
     "metadata": {},
     "output_type": "execute_result"
    }
   ],
   "source": [
    "features = [\n",
    "    'bias disc',\n",
    "    'gas',\n",
    "    'solinj',\n",
    "    'solcen',\n",
    "    'solext',\n",
    "    'HTI',\n",
    "    'RF'\n",
    "]\n",
    "\n",
    "X = df.xs('median', level=1, axis=1)[features].values\n",
    "weights = df[('DURATION', 'in_hours')].values\n",
    "X.shape"
   ]
  },
  {
   "cell_type": "code",
   "execution_count": 37,
   "metadata": {},
   "outputs": [],
   "source": [
    "ks = range(2, 30)\n",
    "scores_silhouette = np.full(len(ks), np.inf)\n",
    "scores_dbi = np.full(len(ks), np.inf)\n",
    "scores_ch = np.full(len(ks), np.inf)\n",
    "\n",
    "for i, k in enumerate(ks):\n",
    "    model = train(k, X, weights)\n",
    "    scores_silhouette[i] = sklearn.metrics.silhouette_score(X, model.labels_)\n",
    "    scores_dbi[i] = sklearn.metrics.davies_bouldin_score(X, model.labels_)\n",
    "    scores_ch[i] = sklearn.metrics.calinski_harabasz_score(X, model.labels_)"
   ]
  },
  {
   "cell_type": "code",
   "execution_count": 38,
   "metadata": {},
   "outputs": [
    {
     "data": {
      "text/plain": [
       "[<matplotlib.lines.Line2D at 0x7f08ed278700>]"
      ]
     },
     "execution_count": 38,
     "metadata": {},
     "output_type": "execute_result"
    },
    {
     "data": {
      "image/png": "[encoded data removed]",
      "text/plain": [
       "<Figure size 504x504 with 3 Axes>"
      ]
     },
     "metadata": {
      "needs_background": "light"
     },
     "output_type": "display_data"
    }
   ],
   "source": [
    "import matplotlib.pyplot as plt\n",
    "\n",
    "_, axs = plt.subplots(3, 1, figsize=(7, 7))\n",
    "axs[0].plot(scores_silhouette)\n",
    "axs[1].plot(scores_dbi)\n",
    "axs[2].plot(scores_ch)"
   ]
  },
  {
   "cell_type": "code",
   "execution_count": 51,
   "metadata": {},
   "outputs": [
    {
     "data": {
      "image/png": "[encoded data removed]",
      "text/plain": [
       "<Figure size 1440x504 with 7 Axes>"
      ]
     },
     "metadata": {
      "needs_background": "light"
     },
     "output_type": "display_data"
    }
   ],
   "source": [
    "model = train(15, X, weights)\n",
    "import matplotlib.pyplot as plt\n",
    "\n",
    "fix, axs = plt.subplots(model.cluster_centers_.shape[1], 1, figsize=(20, 7))\n",
    "for i in range(model.cluster_centers_.shape[1]):\n",
    "    axs[i].plot(model.cluster_centers_[:, i], 'bo ')"
   ]
  },
  {
   "cell_type": "code",
   "execution_count": null,
   "metadata": {},
   "outputs": [],
   "source": []
  }
 ],
 "metadata": {
  "kernelspec": {
   "display_name": "Python 3",
   "language": "python",
   "name": "python3"
  },
  "language_info": {
   "codemirror_mode": {
    "name": "ipython",
    "version": 3
   },
   "file_extension": ".py",
   "mimetype": "text/x-python",
   "name": "python",
   "nbconvert_exporter": "python",
   "pygments_lexer": "ipython3",
   "version": "3.8.1"
  }
 },
 "nbformat": 4,
 "nbformat_minor": 4
}
