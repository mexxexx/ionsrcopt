{
 "cells": [
  {
   "cell_type": "code",
   "execution_count": 1,
   "metadata": {},
   "outputs": [],
   "source": [
    "import pytimber\n",
    "ldb = pytimber.LoggingDB()"
   ]
  },
  {
   "cell_type": "code",
   "execution_count": 2,
   "metadata": {},
   "outputs": [],
   "source": [
    "t1 = '2015-11-01 01:00:00.000'\n",
    "t2 = '2015-12-01 00:59:00.000'"
   ]
  },
  {
   "cell_type": "code",
   "execution_count": 3,
   "metadata": {},
   "outputs": [],
   "source": [
    "time = 'Timestamp (UTC_TIME)'\n",
    "parameters = ['IP.NSRCGEN:BIASDISCAQNV', 'IP.NSRCGEN:GASSASAQN', 'IP.NSRCGEN:SOURCEHTAQNI', 'IP.SOLCEN.ACQUISITION:CURRENT', 'IP.SOLEXT.ACQUISITION:CURRENT', 'IP.NSRCGEN:OVEN1AQNP', 'IP.NSRCGEN:OVEN2AQNP']\n",
    "measurments = ['ITF.BCT25:CURRENT']\n",
    "columns_to_load = parameters + measurments"
   ]
  },
  {
   "cell_type": "code",
   "execution_count": 4,
   "metadata": {},
   "outputs": [],
   "source": [
    "result = ldb.get(columns_to_load, t1, t2, unixtime=False)"
   ]
  },
  {
   "cell_type": "code",
   "execution_count": 5,
   "metadata": {},
   "outputs": [],
   "source": [
    "import pandas as pd\n",
    "df = pd.DataFrame(columns=[time])\n",
    "df.set_index(time, inplace = True)"
   ]
  },
  {
   "cell_type": "code",
   "execution_count": 6,
   "metadata": {},
   "outputs": [
    {
     "name": "stdout",
     "output_type": "stream",
     "text": [
      "For column IP.NSRCGEN:BIASDISCAQNV 8461 datapoints exist.\n",
      "For column IP.NSRCGEN:GASSASAQN 8525 datapoints exist.\n",
      "For column IP.NSRCGEN:SOURCEHTAQNI 249022 datapoints exist.\n",
      "For column IP.SOLCEN.ACQUISITION:CURRENT 1567 datapoints exist.\n",
      "For column IP.SOLEXT.ACQUISITION:CURRENT 16906 datapoints exist.\n",
      "For column IP.NSRCGEN:OVEN1AQNP 8555 datapoints exist.\n",
      "For column IP.NSRCGEN:OVEN2AQNP 8860 datapoints exist.\n",
      "For column ITF.BCT25:CURRENT 261345 datapoints exist.\n"
     ]
    }
   ],
   "source": [
    "for column in columns_to_load:\n",
    "    print(\"For column {} {} datapoints exist.\".format(column, len(result[column][1])))\n",
    "    \n",
    "    df_column = pd.DataFrame(columns=[time, column])\n",
    "    df_column[time] = result[column][0]\n",
    "    df_column[column] = result[column][1]\n",
    "    df_column.set_index(time, inplace = True)\n",
    "\n",
    "    df = df.join(df_column, how='outer')"
   ]
  },
  {
   "cell_type": "code",
   "execution_count": 7,
   "metadata": {},
   "outputs": [],
   "source": [
    "filename = '../Data_Raw/Nov2015.csv'"
   ]
  },
  {
   "cell_type": "code",
   "execution_count": 8,
   "metadata": {},
   "outputs": [],
   "source": [
    "df.to_csv(filename)"
   ]
  },
  {
   "cell_type": "code",
   "execution_count": null,
   "metadata": {},
   "outputs": [],
   "source": []
  }
 ],
 "metadata": {
  "kernelspec": {
   "display_name": "Python 3",
   "language": "python",
   "name": "python3"
  },
  "language_info": {
   "codemirror_mode": {
    "name": "ipython",
    "version": 3
   },
   "file_extension": ".py",
   "mimetype": "text/x-python",
   "name": "python",
   "nbconvert_exporter": "python",
   "pygments_lexer": "ipython3",
   "version": "3.6.5"
  }
 },
 "nbformat": 4,
 "nbformat_minor": 2
}
