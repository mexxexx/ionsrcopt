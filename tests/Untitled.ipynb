{
 "cells": [
  {
   "cell_type": "code",
   "execution_count": 1,
   "metadata": {},
   "outputs": [],
   "source": [
    "import numpy as np\n",
    "import pandas as pd"
   ]
  },
  {
   "cell_type": "code",
   "execution_count": 2,
   "metadata": {},
   "outputs": [],
   "source": [
    "# %load ../ionsrcopt/source_features.py\n",
    "class SourceFeatures(object):\n",
    "    TIMESTAMP = 'UTC_TIME'\n",
    "    BIASDISCAQNV = 'IP.NSRCGEN:BIASDISCAQNV'\n",
    "    GASAQN = 'IP.NSRCGEN:GASAQN'\n",
    "    GASSASAQN = 'IP.NSRCGEN:GASSASAQN'\n",
    "    SOLINJ_CURRENT = 'IP.SOLINJ.ACQUISITION:CURRENT'\n",
    "    SOLCEN_CURRENT = 'IP.SOLCEN.ACQUISITION:CURRENT'\n",
    "    SOLEXT_CURRENT = 'IP.SOLEXT.ACQUISITION:CURRENT'\n",
    "    OVEN1AQNP = 'IP.NSRCGEN:OVEN1AQNP'\n",
    "    OVEN2AQNP = 'IP.NSRCGEN:OVEN2AQNP'\n",
    "    SOURCEHTAQNI = 'IP.NSRCGEN:SOURCEHTAQNI'\n",
    "    SAIREM2_FORWARDPOWER = 'IP.SAIREM2:FORWARDPOWER'\n",
    "    THOMSON_FORWARDPOWER = 'IP.NSRCGEN:RFTHOMSONAQNFWD'\n",
    "    BCT05_CURRENT = 'ITL.BCT05:CURRENT'\n",
    "    BCT25_CURRENT = 'ITF.BCT25:CURRENT'"
   ]
  },
  {
   "cell_type": "code",
   "execution_count": 3,
   "metadata": {},
   "outputs": [],
   "source": [
    "# %load ../ionsrcopt/processing_features.py\n",
    "class ProcessingFeatures(object):\n",
    "    SOURCE_RUNNING = 'source_running'\n",
    "    SOURCE_STABILITY = 'source_stable'\n",
    "    CLUSTER = 'optigrid_cluster'\n",
    "    HT_VOLTAGE_BREAKDOWN = 'ht_voltage_breakdown'\n",
    "    DATAPOINT_DURATION = 'datapoint_duration'"
   ]
  },
  {
   "cell_type": "code",
   "execution_count": 4,
   "metadata": {},
   "outputs": [],
   "source": [
    "params = [\n",
    "    SourceFeatures.BIASDISCAQNV, \n",
    "    SourceFeatures.GASAQN,\n",
    "    SourceFeatures.SOLINJ_CURRENT,\n",
    "    SourceFeatures.SOLCEN_CURRENT,\n",
    "    SourceFeatures.SOLEXT_CURRENT,\n",
    "    SourceFeatures.SOURCEHTAQNI,\n",
    "    SourceFeatures.SAIREM2_FORWARDPOWER\n",
    "]\n",
    "df = pd.DataFrame(index=params, columns=['min', 'max'], dtype=float)\n",
    "\n",
    "df.loc[SourceFeatures.BIASDISCAQNV] = [-350, -250]\n",
    "df.loc[SourceFeatures.GASAQN] = [950, 1000]\n",
    "df.loc[SourceFeatures.SOLINJ_CURRENT] = [1150, 1250]\n",
    "df.loc[SourceFeatures.SOLCEN_CURRENT] = [200, 300]\n",
    "df.loc[SourceFeatures.SOLEXT_CURRENT] = [1150, 1250]\n",
    "df.loc[SourceFeatures.SOURCEHTAQNI] = [150, 250]\n",
    "df.loc[SourceFeatures.SAIREM2_FORWARDPOWER] = [1900, 2000]"
   ]
  },
  {
   "cell_type": "code",
   "execution_count": 5,
   "metadata": {},
   "outputs": [],
   "source": [
    "size = 6 * 60 * 24 * 365\n",
    "data = np.random.uniform(low=df.values[:,0], high=df.values[:,1], size=(size, len(df.index)))\n",
    "data[:,1] /= 100\n",
    "data[:,5] /= 100"
   ]
  },
  {
   "cell_type": "code",
   "execution_count": 9,
   "metadata": {},
   "outputs": [],
   "source": [
    "result = pd.DataFrame(data, columns=params).round({\n",
    "    SourceFeatures.BIASDISCAQNV : 0, \n",
    "    SourceFeatures.GASAQN : 2,\n",
    "    SourceFeatures.SOLINJ_CURRENT : 0,\n",
    "    SourceFeatures.SOLCEN_CURRENT : 0,\n",
    "    SourceFeatures.SOLEXT_CURRENT : 0,\n",
    "    SourceFeatures.SOURCEHTAQNI : 2,\n",
    "    SourceFeatures.SAIREM2_FORWARDPOWER : 0\n",
    "})"
   ]
  },
  {
   "cell_type": "code",
   "execution_count": 10,
   "metadata": {},
   "outputs": [
    {
     "data": {
      "text/html": [
       "<div>\n",
       "<style scoped>\n",
       "    .dataframe tbody tr th:only-of-type {\n",
       "        vertical-align: middle;\n",
       "    }\n",
       "\n",
       "    .dataframe tbody tr th {\n",
       "        vertical-align: top;\n",
       "    }\n",
       "\n",
       "    .dataframe thead th {\n",
       "        text-align: right;\n",
       "    }\n",
       "</style>\n",
       "<table border=\"1\" class=\"dataframe\">\n",
       "  <thead>\n",
       "    <tr style=\"text-align: right;\">\n",
       "      <th></th>\n",
       "      <th>IP.NSRCGEN:BIASDISCAQNV</th>\n",
       "      <th>IP.NSRCGEN:GASAQN</th>\n",
       "      <th>IP.SOLINJ.ACQUISITION:CURRENT</th>\n",
       "      <th>IP.SOLCEN.ACQUISITION:CURRENT</th>\n",
       "      <th>IP.SOLEXT.ACQUISITION:CURRENT</th>\n",
       "      <th>IP.NSRCGEN:SOURCEHTAQNI</th>\n",
       "      <th>IP.SAIREM2:FORWARDPOWER</th>\n",
       "    </tr>\n",
       "  </thead>\n",
       "  <tbody>\n",
       "    <tr>\n",
       "      <th>0</th>\n",
       "      <td>-325.0</td>\n",
       "      <td>9.75</td>\n",
       "      <td>1171.0</td>\n",
       "      <td>294.0</td>\n",
       "      <td>1215.0</td>\n",
       "      <td>1.77</td>\n",
       "      <td>1922.0</td>\n",
       "    </tr>\n",
       "    <tr>\n",
       "      <th>1</th>\n",
       "      <td>-274.0</td>\n",
       "      <td>9.96</td>\n",
       "      <td>1199.0</td>\n",
       "      <td>288.0</td>\n",
       "      <td>1197.0</td>\n",
       "      <td>2.44</td>\n",
       "      <td>1967.0</td>\n",
       "    </tr>\n",
       "    <tr>\n",
       "      <th>2</th>\n",
       "      <td>-319.0</td>\n",
       "      <td>9.59</td>\n",
       "      <td>1197.0</td>\n",
       "      <td>278.0</td>\n",
       "      <td>1154.0</td>\n",
       "      <td>2.26</td>\n",
       "      <td>1927.0</td>\n",
       "    </tr>\n",
       "    <tr>\n",
       "      <th>3</th>\n",
       "      <td>-309.0</td>\n",
       "      <td>9.78</td>\n",
       "      <td>1241.0</td>\n",
       "      <td>247.0</td>\n",
       "      <td>1216.0</td>\n",
       "      <td>1.59</td>\n",
       "      <td>1995.0</td>\n",
       "    </tr>\n",
       "    <tr>\n",
       "      <th>4</th>\n",
       "      <td>-288.0</td>\n",
       "      <td>9.81</td>\n",
       "      <td>1177.0</td>\n",
       "      <td>216.0</td>\n",
       "      <td>1172.0</td>\n",
       "      <td>2.37</td>\n",
       "      <td>1901.0</td>\n",
       "    </tr>\n",
       "  </tbody>\n",
       "</table>\n",
       "</div>"
      ],
      "text/plain": [
       "   IP.NSRCGEN:BIASDISCAQNV  IP.NSRCGEN:GASAQN  IP.SOLINJ.ACQUISITION:CURRENT  \\\n",
       "0                   -325.0               9.75                         1171.0   \n",
       "1                   -274.0               9.96                         1199.0   \n",
       "2                   -319.0               9.59                         1197.0   \n",
       "3                   -309.0               9.78                         1241.0   \n",
       "4                   -288.0               9.81                         1177.0   \n",
       "\n",
       "   IP.SOLCEN.ACQUISITION:CURRENT  IP.SOLEXT.ACQUISITION:CURRENT  \\\n",
       "0                          294.0                         1215.0   \n",
       "1                          288.0                         1197.0   \n",
       "2                          278.0                         1154.0   \n",
       "3                          247.0                         1216.0   \n",
       "4                          216.0                         1172.0   \n",
       "\n",
       "   IP.NSRCGEN:SOURCEHTAQNI  IP.SAIREM2:FORWARDPOWER  \n",
       "0                     1.77                   1922.0  \n",
       "1                     2.44                   1967.0  \n",
       "2                     2.26                   1927.0  \n",
       "3                     1.59                   1995.0  \n",
       "4                     2.37                   1901.0  "
      ]
     },
     "execution_count": 10,
     "metadata": {},
     "output_type": "execute_result"
    }
   ],
   "source": [
    "result.head()"
   ]
  },
  {
   "cell_type": "code",
   "execution_count": 11,
   "metadata": {},
   "outputs": [],
   "source": [
    "result.to_csv('../Data_Raw/year_simulated_uniform.csv', index=False)"
   ]
  },
  {
   "cell_type": "code",
   "execution_count": null,
   "metadata": {},
   "outputs": [],
   "source": []
  }
 ],
 "metadata": {
  "kernelspec": {
   "display_name": "Python 3",
   "language": "python",
   "name": "python3"
  },
  "language_info": {
   "codemirror_mode": {
    "name": "ipython",
    "version": 3
   },
   "file_extension": ".py",
   "mimetype": "text/x-python",
   "name": "python",
   "nbconvert_exporter": "python",
   "pygments_lexer": "ipython3",
   "version": "3.7.6"
  }
 },
 "nbformat": 4,
 "nbformat_minor": 4
}
